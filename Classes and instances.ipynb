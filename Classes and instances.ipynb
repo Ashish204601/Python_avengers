{
 "cells": [
  {
   "cell_type": "markdown",
   "id": "143e4adc",
   "metadata": {},
   "source": [
    "### Classes\n",
    "- Have specific attributes and methods\n",
    "- Have instance something similar to objects\n",
    "- It's a kind of blueprint through which different instance can be created with a set of attributes and methods\n",
    "\n",
    "### What's the difference between a class and a class Instance\n",
    "- Class is a blueprint for creating instances\n",
    "- Each Employee in our example will be an instances of our class\n",
    "\n",
    "### What is instance variable\n",
    "- Instance variable is something which contains unique data corresponding to each attributes for each instances"
   ]
  },
  {
   "cell_type": "code",
   "execution_count": 4,
   "id": "5501417b",
   "metadata": {},
   "outputs": [
    {
     "name": "stdout",
     "output_type": "stream",
     "text": [
      "corey.schafer@company.com\n",
      "test.user@company.com\n"
     ]
    }
   ],
   "source": [
    "#Class of Employees with different attributes(First_name, Last_name, Email_address) and methods(Fullname)\n",
    "#This example shows differnce instance variables and not a proper use of class\n",
    "class Employee:\n",
    "    pass       # basically a class with no attributes\n",
    "\n",
    "emp_1=Employee() #Instance of class Employee\n",
    "emp_2=Employee() #Instance of class Employee\n",
    "\n",
    "emp_1.first='corey' # First is an instance variable here as it contains unique value for that instance\n",
    "emp_1.last='schafer'\n",
    "emp_1.email='corey.schafer@company.com'\n",
    "emp_1.pay=50000\n",
    "\n",
    "emp_2.first='test' # First is an instance variable here as it contains unique value for that instance\n",
    "emp_2.last='user'\n",
    "emp_2.email='test.user@company.com'\n",
    "emp_2.pay=60000\n",
    "\n",
    "print(emp_1.email)\n",
    "print(emp_2.email)"
   ]
  },
  {
   "cell_type": "markdown",
   "id": "1873e0c3",
   "metadata": {},
   "source": [
    "####  __init__ method\n",
    "\n",
    "- Creation of a skelton instance self which could be used to create other instances with similar kind of attributes but with different values\n",
    "-  First, Last, pay, email all are attributes of class Employee as an common blue print\n",
    "-  fullname() is a method, say as a function for the class employee which is being created using some modifications done with attributes\n"
   ]
  },
  {
   "cell_type": "code",
   "execution_count": 25,
   "id": "ae51e2f1",
   "metadata": {},
   "outputs": [
    {
     "name": "stdout",
     "output_type": "stream",
     "text": [
      "ashish\n",
      "alok\n",
      "ashish.mishra@company.com\n",
      "alok.tiwari@company.com\n",
      "ashish mishra\n"
     ]
    }
   ],
   "source": [
    "class Employee:\n",
    "    def __init__(self,first,last,pay): # Creation of a skelton instance self which could be used to create other instances with similar kind of attributes but with different values\n",
    "        self.first=first               # First, Last, pay, email all are attributes of class Employee\n",
    "        self.last=last\n",
    "        self.pay=pay\n",
    "        self.email=first+'.'+last+'@company.com'\n",
    "        \n",
    "        #1st method\n",
    "        \n",
    "    def fullname(self):\n",
    "        return '{} {}'.format(self.first,self.last)\n",
    "\n",
    "emp_1=Employee('ashish','mishra',10)\n",
    "emp_2=Employee('alok','tiwari',120)\n",
    "\n",
    "\n",
    "print(emp_1.first)\n",
    "print(emp_2.first)\n",
    "print(emp_1.email)\n",
    "print(emp_2.email)\n",
    "\n",
    "# Now we want to create a action to represent full name for each instances\n",
    "# For this there are two methods\n",
    "# 1st- Doing something outside of the classs\n",
    "# 2nd- Creating a method inside the class , a kind of blueprint\n",
    "\n",
    "#2nd method\n",
    "# print('{} {}' .format(emp_1.first, emp_1.last))\n",
    "print(emp_1.fullname())\n"
   ]
  },
  {
   "cell_type": "code",
   "execution_count": null,
   "id": "6f4128e9",
   "metadata": {},
   "outputs": [],
   "source": []
  },
  {
   "cell_type": "code",
   "execution_count": null,
   "id": "8790e553",
   "metadata": {},
   "outputs": [],
   "source": []
  },
  {
   "cell_type": "code",
   "execution_count": null,
   "id": "809aef22",
   "metadata": {},
   "outputs": [],
   "source": []
  }
 ],
 "metadata": {
  "kernelspec": {
   "display_name": "Python 3",
   "language": "python",
   "name": "python3"
  },
  "language_info": {
   "codemirror_mode": {
    "name": "ipython",
    "version": 3
   },
   "file_extension": ".py",
   "mimetype": "text/x-python",
   "name": "python",
   "nbconvert_exporter": "python",
   "pygments_lexer": "ipython3",
   "version": "3.8.8"
  }
 },
 "nbformat": 4,
 "nbformat_minor": 5
}
